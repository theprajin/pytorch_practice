{
  "nbformat": 4,
  "nbformat_minor": 0,
  "metadata": {
    "colab": {
      "provenance": []
    },
    "kernelspec": {
      "name": "python3",
      "display_name": "Python 3"
    },
    "language_info": {
      "name": "python"
    }
  },
  "cells": [
    {
      "cell_type": "code",
      "execution_count": 6,
      "metadata": {
        "id": "9bMNpAOyM9r6"
      },
      "outputs": [],
      "source": [
        "import numpy as np\n",
        "import pandas as pd\n",
        "import matplotlib.pyplot as plt\n",
        "import torch\n",
        "import torch.nn as nn"
      ]
    },
    {
      "cell_type": "code",
      "source": [
        "N = 20"
      ],
      "metadata": {
        "id": "S_fJA4tVNtbd"
      },
      "execution_count": 2,
      "outputs": []
    },
    {
      "cell_type": "code",
      "source": [
        "X = np.random.random(N)*10-5"
      ],
      "metadata": {
        "id": "0-S5si6ZNwPv"
      },
      "execution_count": 3,
      "outputs": []
    },
    {
      "cell_type": "code",
      "source": [
        "Y = 0.5*X-1+np.random.random(N)"
      ],
      "metadata": {
        "id": "72ah44fcN30H"
      },
      "execution_count": 4,
      "outputs": []
    },
    {
      "cell_type": "code",
      "source": [
        "plt.scatter(X,Y)"
      ],
      "metadata": {
        "colab": {
          "base_uri": "https://localhost:8080/",
          "height": 447
        },
        "id": "QixuURjsN8sH",
        "outputId": "1a4f2cdb-958c-4213-fefd-908bde5045cf"
      },
      "execution_count": 5,
      "outputs": [
        {
          "output_type": "execute_result",
          "data": {
            "text/plain": [
              "<matplotlib.collections.PathCollection at 0x7e37853c3280>"
            ]
          },
          "metadata": {},
          "execution_count": 5
        },
        {
          "output_type": "display_data",
          "data": {
            "text/plain": [
              "<Figure size 640x480 with 1 Axes>"
            ],
            "image/png": "[encoded data removed]"
          },
          "metadata": {}
        }
      ]
    },
    {
      "cell_type": "code",
      "source": [
        "# create the linear regression model\n",
        "model = nn.Linear(1,1)"
      ],
      "metadata": {
        "id": "4Y5r4J9NOA8X"
      },
      "execution_count": 7,
      "outputs": []
    },
    {
      "cell_type": "code",
      "source": [
        "# loss and criterion\n",
        "criterion = nn.MSELoss()\n",
        "optimizer = torch.optim.SGD(model.parameters(), lr=0.1)"
      ],
      "metadata": {
        "id": "4Af1O8oZR5oS"
      },
      "execution_count": 8,
      "outputs": []
    },
    {
      "cell_type": "code",
      "source": [
        "X = X.reshape(N,1)\n",
        "Y = Y.reshape(N,1)"
      ],
      "metadata": {
        "id": "8nuwoDAkSJg8"
      },
      "execution_count": 9,
      "outputs": []
    },
    {
      "cell_type": "code",
      "source": [
        "inputs = torch.from_numpy(X.astype(np.float32))\n",
        "targets = torch.from_numpy(Y.astype(np.float32))"
      ],
      "metadata": {
        "id": "-D1GDiwbSR9L"
      },
      "execution_count": 12,
      "outputs": []
    },
    {
      "cell_type": "code",
      "source": [
        "type(inputs)"
      ],
      "metadata": {
        "colab": {
          "base_uri": "https://localhost:8080/"
        },
        "id": "NVDL2w19SiWb",
        "outputId": "2ab9f583-3d1c-4e29-f80c-f723d1c8b8c7"
      },
      "execution_count": 13,
      "outputs": [
        {
          "output_type": "execute_result",
          "data": {
            "text/plain": [
              "torch.Tensor"
            ]
          },
          "metadata": {},
          "execution_count": 13
        }
      ]
    },
    {
      "cell_type": "code",
      "source": [
        "# Train the model\n",
        "n_epochs = 30\n",
        "losses = []\n",
        "for it in range(n_epochs):\n",
        "  #zero the parameter gradients\n",
        "  optimizer.zero_grad()\n",
        "\n",
        "  # Forward pass\n",
        "  outputs = model(inputs)\n",
        "  loss = criterion(outputs, targets)\n",
        "\n",
        "  # keep the loss so we can plot it later\n",
        "  losses.append(loss.item())\n",
        "\n",
        "  #Backward and optimize\n",
        "  loss.backward()\n",
        "  optimizer.step()\n",
        "\n",
        "  print(f\"Epoch {it+1}/{n_epochs}, lLoss: {loss.item():.4f}\")"
      ],
      "metadata": {
        "colab": {
          "base_uri": "https://localhost:8080/"
        },
        "id": "qle7MpgGSlPz",
        "outputId": "806e4cf2-0c43-4ac9-e0a5-08a284012dbc"
      },
      "execution_count": 15,
      "outputs": [
        {
          "output_type": "stream",
          "name": "stdout",
          "text": [
            "Epoch 1/30, lLoss: 1.2423\n",
            "Epoch 2/30, lLoss: 0.9068\n",
            "Epoch 3/30, lLoss: 0.7388\n",
            "Epoch 4/30, lLoss: 0.7047\n",
            "Epoch 5/30, lLoss: 0.7986\n",
            "Epoch 6/30, lLoss: 1.0402\n",
            "Epoch 7/30, lLoss: 1.4802\n",
            "Epoch 8/30, lLoss: 2.2097\n",
            "Epoch 9/30, lLoss: 3.3801\n",
            "Epoch 10/30, lLoss: 5.2340\n",
            "Epoch 11/30, lLoss: 8.1554\n",
            "Epoch 12/30, lLoss: 12.7496\n",
            "Epoch 13/30, lLoss: 19.9682\n",
            "Epoch 14/30, lLoss: 31.3065\n",
            "Epoch 15/30, lLoss: 49.1135\n",
            "Epoch 16/30, lLoss: 77.0777\n",
            "Epoch 17/30, lLoss: 120.9919\n",
            "Epoch 18/30, lLoss: 189.9530\n",
            "Epoch 19/30, lLoss: 298.2466\n",
            "Epoch 20/30, lLoss: 468.3053\n",
            "Epoch 21/30, lLoss: 735.3570\n",
            "Epoch 22/30, lLoss: 1154.7217\n",
            "Epoch 23/30, lLoss: 1813.2698\n",
            "Epoch 24/30, lLoss: 2847.4199\n",
            "Epoch 25/30, lLoss: 4471.3975\n",
            "Epoch 26/30, lLoss: 7021.6123\n",
            "Epoch 27/30, lLoss: 11026.3359\n",
            "Epoch 28/30, lLoss: 17315.1523\n",
            "Epoch 29/30, lLoss: 27190.7930\n",
            "Epoch 30/30, lLoss: 42698.9844\n"
          ]
        }
      ]
    },
    {
      "cell_type": "code",
      "source": [
        "# Plot the loss per iterations\n",
        "plt.plot(losses)"
      ],
      "metadata": {
        "colab": {
          "base_uri": "https://localhost:8080/",
          "height": 447
        },
        "id": "hSZbpe69TjLr",
        "outputId": "81a7d8b1-f206-40c5-a23a-7d6f0ed54ba4"
      },
      "execution_count": 16,
      "outputs": [
        {
          "output_type": "execute_result",
          "data": {
            "text/plain": [
              "[<matplotlib.lines.Line2D at 0x7e376f9613f0>]"
            ]
          },
          "metadata": {},
          "execution_count": 16
        },
        {
          "output_type": "display_data",
          "data": {
            "text/plain": [
              "<Figure size 640x480 with 1 Axes>"
            ],
            "image/png": "[encoded data removed]"
          },
          "metadata": {}
        }
      ]
    },
    {
      "cell_type": "code",
      "source": [
        "#plot the graph\n",
        "predicted = model(inputs).detach().numpy()\n",
        "plt.scatter(X,Y, label='Original data')\n",
        "plt.plot(X, predicted, label=\"Fitted data\")\n",
        "plt.legend()\n",
        "plt.show()"
      ],
      "metadata": {
        "colab": {
          "base_uri": "https://localhost:8080/",
          "height": 430
        },
        "id": "Ii48jdv-TsbT",
        "outputId": "e3ca32bf-34f7-41ba-b1b9-282bf0639c30"
      },
      "execution_count": 17,
      "outputs": [
        {
          "output_type": "display_data",
          "data": {
            "text/plain": [
              "<Figure size 640x480 with 1 Axes>"
            ],
            "image/png": "[encoded data removed]"
          },
          "metadata": {}
        }
      ]
    },
    {
      "cell_type": "code",
      "source": [
        "2"
      ],
      "metadata": {
        "id": "17PUUNyaUEeL"
      },
      "execution_count": null,
      "outputs": []
    }
  ]
}