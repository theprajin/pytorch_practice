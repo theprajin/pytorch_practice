{
  "nbformat": 4,
  "nbformat_minor": 0,
  "metadata": {
    "colab": {
      "provenance": []
    },
    "kernelspec": {
      "name": "python3",
      "display_name": "Python 3"
    },
    "language_info": {
      "name": "python"
    }
  },
  "cells": [
    {
      "cell_type": "code",
      "execution_count": 69,
      "metadata": {
        "id": "gUUsQkr1XMTX"
      },
      "outputs": [],
      "source": [
        "import numpy as np\n",
        "import matplotlib.pyplot as plt\n",
        "import torch\n",
        "import torch.nn as nn"
      ]
    },
    {
      "cell_type": "code",
      "source": [
        "from sklearn.datasets import load_breast_cancer\n",
        "data = load_breast_cancer()"
      ],
      "metadata": {
        "id": "UUiCoLNZXUbc"
      },
      "execution_count": 70,
      "outputs": []
    },
    {
      "cell_type": "code",
      "source": [
        "from sklearn.model_selection import train_test_split\n",
        "X_train, X_test, y_train, y_test = train_test_split(data.data, data.target, test_size=0.33)\n",
        "N,D = X_train.shape"
      ],
      "metadata": {
        "id": "Fjs6GuIGXpDh"
      },
      "execution_count": 71,
      "outputs": []
    },
    {
      "cell_type": "code",
      "source": [
        "from sklearn.preprocessing import StandardScaler\n",
        "scaler = StandardScaler()\n",
        "X_train = scaler.fit_transform(X_train)\n",
        "X_test = scaler.fit_transform(X_test)"
      ],
      "metadata": {
        "id": "wWjmGr8bYEaR"
      },
      "execution_count": 72,
      "outputs": []
    },
    {
      "cell_type": "code",
      "source": [
        "# convert data into torch tensor\n",
        "X_train = torch.from_numpy(X_train.astype(np.float32))\n",
        "X_test = torch.from_numpy(X_test.astype(np.float32))\n",
        "y_train = torch.from_numpy(y_train.astype(np.float32).reshape(-1,1))\n",
        "y_test = torch.from_numpy(y_test.astype(np.float32).reshape(-1,1))"
      ],
      "metadata": {
        "id": "EXJgNORzYY83"
      },
      "execution_count": 73,
      "outputs": []
    },
    {
      "cell_type": "code",
      "source": [
        "# Build the model\n",
        "model = nn.Sequential(\n",
        "    nn.Linear(D,1),\n",
        "    nn.Sigmoid()\n",
        ")"
      ],
      "metadata": {
        "id": "TAH-4crgYvLB"
      },
      "execution_count": 74,
      "outputs": []
    },
    {
      "cell_type": "code",
      "source": [
        "# Loss and optimizer\n",
        "criterion = nn.BCELoss()\n",
        "optimizer = torch.optim.Adam(model.parameters())"
      ],
      "metadata": {
        "id": "_Zawl0GOZG8g"
      },
      "execution_count": 75,
      "outputs": []
    },
    {
      "cell_type": "code",
      "source": [
        "# Train the model\n",
        "n_epochs = 1000\n",
        "\n",
        "# Stuff to store\n",
        "train_losses = np.zeros(n_epochs)\n",
        "test_losses = np.zeros(n_epochs)\n",
        "\n",
        "train_acc_values = []\n",
        "test_acc_values = []\n",
        "\n",
        "for epoch in range(n_epochs):\n",
        "  # zero the parameter gradients\n",
        "  optimizer.zero_grad()\n",
        "\n",
        "  # Forward pass\n",
        "  outputs = model(X_train)\n",
        "  loss = criterion(outputs, y_train)\n",
        "\n",
        "  # Backward pass\n",
        "  loss.backward()\n",
        "  optimizer.step()\n",
        "\n",
        "  # Get the test loss\n",
        "  outputs_test = model(X_test)\n",
        "  loss_test = criterion(outputs_test, y_test)\n",
        "\n",
        "  #save losses\n",
        "  train_losses[epoch] = loss.item()\n",
        "  test_losses[epoch] = loss_test.item()\n",
        "\n",
        "\n",
        "  if(epoch+1)%50 == 0:\n",
        "    print(f\"Epoch {epoch+1}/{n_epochs}, Train loss: {loss.item():.4f}, Test loss: {loss_test.item():.4f}\")\n"
      ],
      "metadata": {
        "colab": {
          "base_uri": "https://localhost:8080/"
        },
        "id": "rNbnO0QPZj1R",
        "outputId": "e077df2d-b788-46a8-f84e-2dc6f5eb278b"
      },
      "execution_count": 76,
      "outputs": [
        {
          "output_type": "stream",
          "name": "stdout",
          "text": [
            "Epoch 50/1000, Train loss: 0.4869, Test loss: 0.4807\n",
            "Epoch 100/1000, Train loss: 0.3606, Test loss: 0.3655\n",
            "Epoch 150/1000, Train loss: 0.2917, Test loss: 0.3018\n",
            "Epoch 200/1000, Train loss: 0.2482, Test loss: 0.2606\n",
            "Epoch 250/1000, Train loss: 0.2180, Test loss: 0.2315\n",
            "Epoch 300/1000, Train loss: 0.1958, Test loss: 0.2097\n",
            "Epoch 350/1000, Train loss: 0.1786, Test loss: 0.1928\n",
            "Epoch 400/1000, Train loss: 0.1648, Test loss: 0.1794\n",
            "Epoch 450/1000, Train loss: 0.1536, Test loss: 0.1684\n",
            "Epoch 500/1000, Train loss: 0.1441, Test loss: 0.1593\n",
            "Epoch 550/1000, Train loss: 0.1361, Test loss: 0.1517\n",
            "Epoch 600/1000, Train loss: 0.1291, Test loss: 0.1453\n",
            "Epoch 650/1000, Train loss: 0.1230, Test loss: 0.1397\n",
            "Epoch 700/1000, Train loss: 0.1176, Test loss: 0.1349\n",
            "Epoch 750/1000, Train loss: 0.1128, Test loss: 0.1307\n",
            "Epoch 800/1000, Train loss: 0.1084, Test loss: 0.1271\n",
            "Epoch 850/1000, Train loss: 0.1045, Test loss: 0.1238\n",
            "Epoch 900/1000, Train loss: 0.1010, Test loss: 0.1209\n",
            "Epoch 950/1000, Train loss: 0.0977, Test loss: 0.1184\n",
            "Epoch 1000/1000, Train loss: 0.0947, Test loss: 0.1161\n"
          ]
        }
      ]
    },
    {
      "cell_type": "code",
      "source": [
        "# Plot the train and test lossed per iteration\n",
        "plt.plot(train_losses, label='Train losses')\n",
        "plt.plot(test_losses, label='Test losses')\n",
        "plt.legend()\n",
        "plt.show()"
      ],
      "metadata": {
        "id": "HqX9aBRjbYwy",
        "colab": {
          "base_uri": "https://localhost:8080/",
          "height": 430
        },
        "outputId": "c35bc006-8437-4612-bc0e-9212ee16cdc9"
      },
      "execution_count": 77,
      "outputs": [
        {
          "output_type": "display_data",
          "data": {
            "text/plain": [
              "<Figure size 640x480 with 1 Axes>"
            ],
            "image/png": "[encoded data removed]"
          },
          "metadata": {}
        }
      ]
    },
    {
      "cell_type": "code",
      "source": [
        "# Get Accuracy\n",
        "with torch.no_grad():\n",
        "  p_train = model(X_train)\n",
        "  p_train = np.round(p_train.numpy())\n",
        "  train_acc = np.mean(y_train.numpy() == p_train)\n",
        "\n",
        "  p_test = model(X_test)\n",
        "  p_test = np.round(p_test.numpy())\n",
        "  test_acc = np.mean(y_test.numpy() == p_test)\n",
        "print(f\"Train accuracy: {train_acc:.4f}, Test accuracy: {test_acc:.4f}\")"
      ],
      "metadata": {
        "colab": {
          "base_uri": "https://localhost:8080/"
        },
        "id": "FtksYpB8zIV7",
        "outputId": "e6f0890c-55d5-4f1e-9cb9-b4843b212e90"
      },
      "execution_count": 78,
      "outputs": [
        {
          "output_type": "stream",
          "name": "stdout",
          "text": [
            "Train accuracy: 0.9895, Test accuracy: 0.9681\n"
          ]
        }
      ]
    }
  ]
}